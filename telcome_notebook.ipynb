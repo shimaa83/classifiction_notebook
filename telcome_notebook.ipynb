{
 "cells": [
  {
   "cell_type": "code",
   "execution_count": 1,
   "id": "fc36bbf9",
   "metadata": {},
   "outputs": [],
   "source": [
    "import numpy as np\n",
    "import pandas as pd\n",
    "import seaborn as sns \n",
    "import matplotlib.pyplot as plt\n",
    "from sklearn.metrics import classification_report, confusion_matrix\n",
    "import seaborn as sns\n",
    "from sklearn import metrics\n",
    "from sklearn.model_selection import cross_val_score\n",
    "from sklearn.model_selection import GridSearchCV\n",
    "from sklearn.linear_model import LogisticRegression\n",
    "from sklearn.pipeline import make_pipeline\n",
    "from sklearn.preprocessing import StandardScaler\n",
    "from mlxtend.plotting import plot_confusion_matrix\n",
    "from sklearn.tree import DecisionTreeClassifier\n",
    "from sklearn.ensemble import RandomForestClassifier, VotingClassifier\n",
    "from sklearn.ensemble import AdaBoostClassifier,GradientBoostingClassifier\n",
    "from sklearn.naive_bayes import GaussianNB\n",
    "from mlxtend.plotting import plot_confusion_matrix\n",
    "from sklearn import metrics\n",
    "from sklearn import svm\n",
    "from sklearn.neighbors import KNeighborsClassifier\n"
   ]
  },
  {
   "cell_type": "code",
   "execution_count": 2,
   "id": "9696fbf9",
   "metadata": {},
   "outputs": [
    {
     "data": {
      "text/html": [
       "<div>\n",
       "<style scoped>\n",
       "    .dataframe tbody tr th:only-of-type {\n",
       "        vertical-align: middle;\n",
       "    }\n",
       "\n",
       "    .dataframe tbody tr th {\n",
       "        vertical-align: top;\n",
       "    }\n",
       "\n",
       "    .dataframe thead th {\n",
       "        text-align: right;\n",
       "    }\n",
       "</style>\n",
       "<table border=\"1\" class=\"dataframe\">\n",
       "  <thead>\n",
       "    <tr style=\"text-align: right;\">\n",
       "      <th></th>\n",
       "      <th>State</th>\n",
       "      <th>Account length</th>\n",
       "      <th>Area code</th>\n",
       "      <th>International plan</th>\n",
       "      <th>Voice mail plan</th>\n",
       "      <th>Number vmail messages</th>\n",
       "      <th>Total day minutes</th>\n",
       "      <th>Total day calls</th>\n",
       "      <th>Total day charge</th>\n",
       "      <th>Total eve minutes</th>\n",
       "      <th>Total eve calls</th>\n",
       "      <th>Total eve charge</th>\n",
       "      <th>Total night minutes</th>\n",
       "      <th>Total night calls</th>\n",
       "      <th>Total night charge</th>\n",
       "      <th>Total intl minutes</th>\n",
       "      <th>Total intl calls</th>\n",
       "      <th>Total intl charge</th>\n",
       "      <th>Customer service calls</th>\n",
       "      <th>Churn</th>\n",
       "    </tr>\n",
       "  </thead>\n",
       "  <tbody>\n",
       "    <tr>\n",
       "      <th>0</th>\n",
       "      <td>LA</td>\n",
       "      <td>117</td>\n",
       "      <td>408</td>\n",
       "      <td>No</td>\n",
       "      <td>No</td>\n",
       "      <td>0</td>\n",
       "      <td>184.5</td>\n",
       "      <td>97</td>\n",
       "      <td>31.37</td>\n",
       "      <td>351.6</td>\n",
       "      <td>80</td>\n",
       "      <td>29.89</td>\n",
       "      <td>215.8</td>\n",
       "      <td>90</td>\n",
       "      <td>9.71</td>\n",
       "      <td>8.7</td>\n",
       "      <td>4</td>\n",
       "      <td>2.35</td>\n",
       "      <td>1</td>\n",
       "      <td>False</td>\n",
       "    </tr>\n",
       "    <tr>\n",
       "      <th>1</th>\n",
       "      <td>IN</td>\n",
       "      <td>65</td>\n",
       "      <td>415</td>\n",
       "      <td>No</td>\n",
       "      <td>No</td>\n",
       "      <td>0</td>\n",
       "      <td>129.1</td>\n",
       "      <td>137</td>\n",
       "      <td>21.95</td>\n",
       "      <td>228.5</td>\n",
       "      <td>83</td>\n",
       "      <td>19.42</td>\n",
       "      <td>208.8</td>\n",
       "      <td>111</td>\n",
       "      <td>9.40</td>\n",
       "      <td>12.7</td>\n",
       "      <td>6</td>\n",
       "      <td>3.43</td>\n",
       "      <td>4</td>\n",
       "      <td>True</td>\n",
       "    </tr>\n",
       "    <tr>\n",
       "      <th>2</th>\n",
       "      <td>NY</td>\n",
       "      <td>161</td>\n",
       "      <td>415</td>\n",
       "      <td>No</td>\n",
       "      <td>No</td>\n",
       "      <td>0</td>\n",
       "      <td>332.9</td>\n",
       "      <td>67</td>\n",
       "      <td>56.59</td>\n",
       "      <td>317.8</td>\n",
       "      <td>97</td>\n",
       "      <td>27.01</td>\n",
       "      <td>160.6</td>\n",
       "      <td>128</td>\n",
       "      <td>7.23</td>\n",
       "      <td>5.4</td>\n",
       "      <td>9</td>\n",
       "      <td>1.46</td>\n",
       "      <td>4</td>\n",
       "      <td>True</td>\n",
       "    </tr>\n",
       "    <tr>\n",
       "      <th>3</th>\n",
       "      <td>SC</td>\n",
       "      <td>111</td>\n",
       "      <td>415</td>\n",
       "      <td>No</td>\n",
       "      <td>No</td>\n",
       "      <td>0</td>\n",
       "      <td>110.4</td>\n",
       "      <td>103</td>\n",
       "      <td>18.77</td>\n",
       "      <td>137.3</td>\n",
       "      <td>102</td>\n",
       "      <td>11.67</td>\n",
       "      <td>189.6</td>\n",
       "      <td>105</td>\n",
       "      <td>8.53</td>\n",
       "      <td>7.7</td>\n",
       "      <td>6</td>\n",
       "      <td>2.08</td>\n",
       "      <td>2</td>\n",
       "      <td>False</td>\n",
       "    </tr>\n",
       "    <tr>\n",
       "      <th>4</th>\n",
       "      <td>HI</td>\n",
       "      <td>49</td>\n",
       "      <td>510</td>\n",
       "      <td>No</td>\n",
       "      <td>No</td>\n",
       "      <td>0</td>\n",
       "      <td>119.3</td>\n",
       "      <td>117</td>\n",
       "      <td>20.28</td>\n",
       "      <td>215.1</td>\n",
       "      <td>109</td>\n",
       "      <td>18.28</td>\n",
       "      <td>178.7</td>\n",
       "      <td>90</td>\n",
       "      <td>8.04</td>\n",
       "      <td>11.1</td>\n",
       "      <td>1</td>\n",
       "      <td>3.00</td>\n",
       "      <td>1</td>\n",
       "      <td>False</td>\n",
       "    </tr>\n",
       "  </tbody>\n",
       "</table>\n",
       "</div>"
      ],
      "text/plain": [
       "  State  Account length  Area code International plan Voice mail plan  \\\n",
       "0    LA             117        408                 No              No   \n",
       "1    IN              65        415                 No              No   \n",
       "2    NY             161        415                 No              No   \n",
       "3    SC             111        415                 No              No   \n",
       "4    HI              49        510                 No              No   \n",
       "\n",
       "   Number vmail messages  Total day minutes  Total day calls  \\\n",
       "0                      0              184.5               97   \n",
       "1                      0              129.1              137   \n",
       "2                      0              332.9               67   \n",
       "3                      0              110.4              103   \n",
       "4                      0              119.3              117   \n",
       "\n",
       "   Total day charge  Total eve minutes  Total eve calls  Total eve charge  \\\n",
       "0             31.37              351.6               80             29.89   \n",
       "1             21.95              228.5               83             19.42   \n",
       "2             56.59              317.8               97             27.01   \n",
       "3             18.77              137.3              102             11.67   \n",
       "4             20.28              215.1              109             18.28   \n",
       "\n",
       "   Total night minutes  Total night calls  Total night charge  \\\n",
       "0                215.8                 90                9.71   \n",
       "1                208.8                111                9.40   \n",
       "2                160.6                128                7.23   \n",
       "3                189.6                105                8.53   \n",
       "4                178.7                 90                8.04   \n",
       "\n",
       "   Total intl minutes  Total intl calls  Total intl charge  \\\n",
       "0                 8.7                 4               2.35   \n",
       "1                12.7                 6               3.43   \n",
       "2                 5.4                 9               1.46   \n",
       "3                 7.7                 6               2.08   \n",
       "4                11.1                 1               3.00   \n",
       "\n",
       "   Customer service calls  Churn  \n",
       "0                       1  False  \n",
       "1                       4   True  \n",
       "2                       4   True  \n",
       "3                       2  False  \n",
       "4                       1  False  "
      ]
     },
     "execution_count": 2,
     "metadata": {},
     "output_type": "execute_result"
    }
   ],
   "source": [
    "#read data\n",
    "tel=pd.read_csv('churn-bigml-20.csv')\n",
    "tel.head()"
   ]
  },
  {
   "cell_type": "code",
   "execution_count": 3,
   "id": "30cec6d0",
   "metadata": {},
   "outputs": [
    {
     "name": "stdout",
     "output_type": "stream",
     "text": [
      "<class 'pandas.core.frame.DataFrame'>\n",
      "RangeIndex: 667 entries, 0 to 666\n",
      "Data columns (total 20 columns):\n",
      " #   Column                  Non-Null Count  Dtype  \n",
      "---  ------                  --------------  -----  \n",
      " 0   State                   667 non-null    object \n",
      " 1   Account length          667 non-null    int64  \n",
      " 2   Area code               667 non-null    int64  \n",
      " 3   International plan      667 non-null    object \n",
      " 4   Voice mail plan         667 non-null    object \n",
      " 5   Number vmail messages   667 non-null    int64  \n",
      " 6   Total day minutes       667 non-null    float64\n",
      " 7   Total day calls         667 non-null    int64  \n",
      " 8   Total day charge        667 non-null    float64\n",
      " 9   Total eve minutes       667 non-null    float64\n",
      " 10  Total eve calls         667 non-null    int64  \n",
      " 11  Total eve charge        667 non-null    float64\n",
      " 12  Total night minutes     667 non-null    float64\n",
      " 13  Total night calls       667 non-null    int64  \n",
      " 14  Total night charge      667 non-null    float64\n",
      " 15  Total intl minutes      667 non-null    float64\n",
      " 16  Total intl calls        667 non-null    int64  \n",
      " 17  Total intl charge       667 non-null    float64\n",
      " 18  Customer service calls  667 non-null    int64  \n",
      " 19  Churn                   667 non-null    bool   \n",
      "dtypes: bool(1), float64(8), int64(8), object(3)\n",
      "memory usage: 99.8+ KB\n"
     ]
    }
   ],
   "source": [
    "tel.info()"
   ]
  },
  {
   "cell_type": "code",
   "execution_count": 4,
   "id": "655626cd",
   "metadata": {},
   "outputs": [
    {
     "data": {
      "text/plain": [
       "State                     0\n",
       "Account length            0\n",
       "Customer service calls    0\n",
       "Total intl charge         0\n",
       "Total intl calls          0\n",
       "Total intl minutes        0\n",
       "Total night charge        0\n",
       "Total night calls         0\n",
       "Total night minutes       0\n",
       "Total eve charge          0\n",
       "Total eve calls           0\n",
       "Total eve minutes         0\n",
       "Total day charge          0\n",
       "Total day calls           0\n",
       "Total day minutes         0\n",
       "Number vmail messages     0\n",
       "Voice mail plan           0\n",
       "International plan        0\n",
       "Area code                 0\n",
       "Churn                     0\n",
       "dtype: int64"
      ]
     },
     "execution_count": 4,
     "metadata": {},
     "output_type": "execute_result"
    }
   ],
   "source": [
    "tel.isnull().sum().sort_values(ascending = False)"
   ]
  },
  {
   "cell_type": "code",
   "execution_count": 5,
   "id": "b29e567f",
   "metadata": {},
   "outputs": [
    {
     "data": {
      "text/plain": [
       "False    572\n",
       "True      95\n",
       "Name: Churn, dtype: int64"
      ]
     },
     "execution_count": 5,
     "metadata": {},
     "output_type": "execute_result"
    }
   ],
   "source": [
    "tel['Churn'].value_counts()"
   ]
  },
  {
   "cell_type": "code",
   "execution_count": 6,
   "id": "7222a099",
   "metadata": {},
   "outputs": [],
   "source": [
    "from sklearn.preprocessing import LabelEncoder\n",
    "labelencoder = LabelEncoder()\n",
    "newtel=tel.apply(LabelEncoder().fit_transform)\n"
   ]
  },
  {
   "cell_type": "code",
   "execution_count": 7,
   "id": "d7e41064",
   "metadata": {},
   "outputs": [
    {
     "data": {
      "text/html": [
       "<div>\n",
       "<style scoped>\n",
       "    .dataframe tbody tr th:only-of-type {\n",
       "        vertical-align: middle;\n",
       "    }\n",
       "\n",
       "    .dataframe tbody tr th {\n",
       "        vertical-align: top;\n",
       "    }\n",
       "\n",
       "    .dataframe thead th {\n",
       "        text-align: right;\n",
       "    }\n",
       "</style>\n",
       "<table border=\"1\" class=\"dataframe\">\n",
       "  <thead>\n",
       "    <tr style=\"text-align: right;\">\n",
       "      <th></th>\n",
       "      <th>State</th>\n",
       "      <th>Account length</th>\n",
       "      <th>Area code</th>\n",
       "      <th>International plan</th>\n",
       "      <th>Voice mail plan</th>\n",
       "      <th>Number vmail messages</th>\n",
       "      <th>Total day minutes</th>\n",
       "      <th>Total day calls</th>\n",
       "      <th>Total day charge</th>\n",
       "      <th>Total eve minutes</th>\n",
       "      <th>Total eve calls</th>\n",
       "      <th>Total eve charge</th>\n",
       "      <th>Total night minutes</th>\n",
       "      <th>Total night calls</th>\n",
       "      <th>Total night charge</th>\n",
       "      <th>Total intl minutes</th>\n",
       "      <th>Total intl calls</th>\n",
       "      <th>Total intl charge</th>\n",
       "      <th>Customer service calls</th>\n",
       "      <th>Churn</th>\n",
       "    </tr>\n",
       "  </thead>\n",
       "  <tbody>\n",
       "    <tr>\n",
       "      <th>0</th>\n",
       "      <td>18</td>\n",
       "      <td>100</td>\n",
       "      <td>0</td>\n",
       "      <td>0</td>\n",
       "      <td>0</td>\n",
       "      <td>0</td>\n",
       "      <td>303</td>\n",
       "      <td>47</td>\n",
       "      <td>303</td>\n",
       "      <td>555</td>\n",
       "      <td>26</td>\n",
       "      <td>526</td>\n",
       "      <td>346</td>\n",
       "      <td>36</td>\n",
       "      <td>275</td>\n",
       "      <td>50</td>\n",
       "      <td>4</td>\n",
       "      <td>50</td>\n",
       "      <td>1</td>\n",
       "      <td>0</td>\n",
       "    </tr>\n",
       "    <tr>\n",
       "      <th>1</th>\n",
       "      <td>15</td>\n",
       "      <td>48</td>\n",
       "      <td>1</td>\n",
       "      <td>0</td>\n",
       "      <td>0</td>\n",
       "      <td>0</td>\n",
       "      <td>104</td>\n",
       "      <td>87</td>\n",
       "      <td>104</td>\n",
       "      <td>385</td>\n",
       "      <td>29</td>\n",
       "      <td>360</td>\n",
       "      <td>320</td>\n",
       "      <td>57</td>\n",
       "      <td>254</td>\n",
       "      <td>90</td>\n",
       "      <td>6</td>\n",
       "      <td>90</td>\n",
       "      <td>4</td>\n",
       "      <td>1</td>\n",
       "    </tr>\n",
       "    <tr>\n",
       "      <th>2</th>\n",
       "      <td>34</td>\n",
       "      <td>143</td>\n",
       "      <td>1</td>\n",
       "      <td>0</td>\n",
       "      <td>0</td>\n",
       "      <td>0</td>\n",
       "      <td>560</td>\n",
       "      <td>17</td>\n",
       "      <td>560</td>\n",
       "      <td>549</td>\n",
       "      <td>43</td>\n",
       "      <td>520</td>\n",
       "      <td>132</td>\n",
       "      <td>74</td>\n",
       "      <td>112</td>\n",
       "      <td>18</td>\n",
       "      <td>9</td>\n",
       "      <td>18</td>\n",
       "      <td>4</td>\n",
       "      <td>1</td>\n",
       "    </tr>\n",
       "    <tr>\n",
       "      <th>3</th>\n",
       "      <td>40</td>\n",
       "      <td>94</td>\n",
       "      <td>1</td>\n",
       "      <td>0</td>\n",
       "      <td>0</td>\n",
       "      <td>0</td>\n",
       "      <td>62</td>\n",
       "      <td>53</td>\n",
       "      <td>62</td>\n",
       "      <td>55</td>\n",
       "      <td>48</td>\n",
       "      <td>54</td>\n",
       "      <td>236</td>\n",
       "      <td>51</td>\n",
       "      <td>192</td>\n",
       "      <td>40</td>\n",
       "      <td>6</td>\n",
       "      <td>40</td>\n",
       "      <td>2</td>\n",
       "      <td>0</td>\n",
       "    </tr>\n",
       "    <tr>\n",
       "      <th>4</th>\n",
       "      <td>11</td>\n",
       "      <td>32</td>\n",
       "      <td>2</td>\n",
       "      <td>0</td>\n",
       "      <td>0</td>\n",
       "      <td>0</td>\n",
       "      <td>83</td>\n",
       "      <td>67</td>\n",
       "      <td>83</td>\n",
       "      <td>336</td>\n",
       "      <td>55</td>\n",
       "      <td>315</td>\n",
       "      <td>196</td>\n",
       "      <td>36</td>\n",
       "      <td>159</td>\n",
       "      <td>74</td>\n",
       "      <td>1</td>\n",
       "      <td>74</td>\n",
       "      <td>1</td>\n",
       "      <td>0</td>\n",
       "    </tr>\n",
       "  </tbody>\n",
       "</table>\n",
       "</div>"
      ],
      "text/plain": [
       "   State  Account length  Area code  International plan  Voice mail plan  \\\n",
       "0     18             100          0                   0                0   \n",
       "1     15              48          1                   0                0   \n",
       "2     34             143          1                   0                0   \n",
       "3     40              94          1                   0                0   \n",
       "4     11              32          2                   0                0   \n",
       "\n",
       "   Number vmail messages  Total day minutes  Total day calls  \\\n",
       "0                      0                303               47   \n",
       "1                      0                104               87   \n",
       "2                      0                560               17   \n",
       "3                      0                 62               53   \n",
       "4                      0                 83               67   \n",
       "\n",
       "   Total day charge  Total eve minutes  Total eve calls  Total eve charge  \\\n",
       "0               303                555               26               526   \n",
       "1               104                385               29               360   \n",
       "2               560                549               43               520   \n",
       "3                62                 55               48                54   \n",
       "4                83                336               55               315   \n",
       "\n",
       "   Total night minutes  Total night calls  Total night charge  \\\n",
       "0                  346                 36                 275   \n",
       "1                  320                 57                 254   \n",
       "2                  132                 74                 112   \n",
       "3                  236                 51                 192   \n",
       "4                  196                 36                 159   \n",
       "\n",
       "   Total intl minutes  Total intl calls  Total intl charge  \\\n",
       "0                  50                 4                 50   \n",
       "1                  90                 6                 90   \n",
       "2                  18                 9                 18   \n",
       "3                  40                 6                 40   \n",
       "4                  74                 1                 74   \n",
       "\n",
       "   Customer service calls  Churn  \n",
       "0                       1      0  \n",
       "1                       4      1  \n",
       "2                       4      1  \n",
       "3                       2      0  \n",
       "4                       1      0  "
      ]
     },
     "execution_count": 7,
     "metadata": {},
     "output_type": "execute_result"
    }
   ],
   "source": [
    "newtel.head()"
   ]
  },
  {
   "cell_type": "code",
   "execution_count": 8,
   "id": "b2b90986",
   "metadata": {},
   "outputs": [],
   "source": [
    "#splitting data to input and output\n",
    "X=newtel.drop('Churn',axis=1) #input\n",
    "y=newtel['Churn']  #output(label)"
   ]
  },
  {
   "cell_type": "code",
   "execution_count": 9,
   "id": "27c969ee",
   "metadata": {},
   "outputs": [],
   "source": [
    "from sklearn.preprocessing import StandardScaler \n",
    "scaler = StandardScaler()  \n",
    "X=scaler.fit_transform(X)    "
   ]
  },
  {
   "cell_type": "code",
   "execution_count": 10,
   "id": "c9b81dd4",
   "metadata": {},
   "outputs": [],
   "source": [
    "from sklearn.model_selection import train_test_split    \n",
    "X_train, X_test, y_train, y_test= train_test_split(X,y,test_size=0.2,shuffle=True,random_state=42)  "
   ]
  },
  {
   "cell_type": "code",
   "execution_count": 11,
   "id": "a52b32e8",
   "metadata": {},
   "outputs": [
    {
     "name": "stdout",
     "output_type": "stream",
     "text": [
      " X_train.shape :  (533, 19)\n",
      " y_train.shape :  (533,)\n",
      " X_test.shape :  (134, 19)\n",
      " y_test.shape :  (134,)\n"
     ]
    }
   ],
   "source": [
    "print(' X_train.shape : ',X_train.shape)\n",
    "print(' y_train.shape : ',y_train.shape)\n",
    "print(' X_test.shape : ',X_test.shape)\n",
    "print(' y_test.shape : ',y_test.shape)"
   ]
  },
  {
   "cell_type": "code",
   "execution_count": 47,
   "id": "595671ba",
   "metadata": {},
   "outputs": [],
   "source": [
    "#model1"
   ]
  },
  {
   "cell_type": "code",
   "execution_count": 15,
   "id": "1da3f1ce",
   "metadata": {},
   "outputs": [
    {
     "name": "stdout",
     "output_type": "stream",
     "text": [
      "Fitting 10 folds for each of 30 candidates, totalling 300 fits\n",
      "KNeighborsClassifier(n_neighbors=3)\n"
     ]
    }
   ],
   "source": [
    "knn = KNeighborsClassifier()\n",
    "k_range = list(range(1, 31))\n",
    "param_grid = dict(n_neighbors=k_range)\n",
    "  \n",
    "grid = GridSearchCV(knn, param_grid, cv=10, scoring='accuracy', return_train_score=False,verbose=1)\n",
    "  \n",
    "grid_search=grid.fit(X_train, y_train)\n",
    "print(grid_search.best_estimator_)\n"
   ]
  },
  {
   "cell_type": "code",
   "execution_count": 26,
   "id": "71da9d21",
   "metadata": {},
   "outputs": [
    {
     "name": "stdout",
     "output_type": "stream",
     "text": [
      "accuracy: 0.8805970149253731\n",
      "cross validation score: 0.8890109890109891\n",
      "              precision    recall  f1-score   support\n",
      "\n",
      "           0       0.92      0.95      0.93       119\n",
      "           1       0.45      0.33      0.38        15\n",
      "\n",
      "    accuracy                           0.88       134\n",
      "   macro avg       0.69      0.64      0.66       134\n",
      "weighted avg       0.87      0.88      0.87       134\n",
      "\n"
     ]
    },
    {
     "data": {
      "image/png": "[encoded data removed]",
      "text/plain": [
       "<Figure size 360x360 with 1 Axes>"
      ]
     },
     "metadata": {
      "needs_background": "light"
     },
     "output_type": "display_data"
    }
   ],
   "source": [
    "knn = KNeighborsClassifier(n_neighbors =3)\n",
    "knn.fit(X_train, y_train)\n",
    "pred = knn.predict(X_test)\n",
    "print('accuracy:',knn.score(X_test, y_test))\n",
    "print('cross validation score:',cross_val_score(knn, X_test, y_test, cv=10, scoring='accuracy').mean())\n",
    "print(classification_report(y_test, pred))\n",
    "cm = confusion_matrix(y_test, pred)\n",
    "from sklearn.metrics import classification_report, confusion_matrix\n",
    "cm = confusion_matrix(y_test, pred)\n",
    "fig, ax = plot_confusion_matrix(conf_mat=cm ,  figsize=(5, 5))\n",
    "plt.show()"
   ]
  },
  {
   "cell_type": "code",
   "execution_count": null,
   "id": "414ae390",
   "metadata": {},
   "outputs": [],
   "source": [
    "#model2\n",
    "#decision tree with grid search"
   ]
  },
  {
   "cell_type": "code",
   "execution_count": 17,
   "id": "d5b612f9",
   "metadata": {},
   "outputs": [
    {
     "name": "stdout",
     "output_type": "stream",
     "text": [
      "Fitting 10 folds for each of 90 candidates, totalling 900 fits\n",
      "0.8704053109713488\n",
      "DecisionTreeClassifier(ccp_alpha=0.01, max_depth=5, max_features='auto',\n",
      "                       random_state=0)\n"
     ]
    }
   ],
   "source": [
    "param_grid = {'max_features': ['auto', 'sqrt', 'log2'],\n",
    "              'ccp_alpha': [0.1, .01, .001],\n",
    "              'max_depth' : [5,15,20,21,25],\n",
    "              'criterion' :['gini', 'entropy']\n",
    "             }\n",
    "tree_clas = DecisionTreeClassifier(random_state=0)\n",
    "grid_search = GridSearchCV(estimator=tree_clas, param_grid=param_grid, cv=10, verbose=True)\n",
    "grid_search.fit(X_train, y_train)\n",
    "\n",
    "print(grid_search.best_score_)\n",
    "print(grid_search.best_estimator_)"
   ]
  },
  {
   "cell_type": "code",
   "execution_count": 24,
   "id": "6ea5940a",
   "metadata": {},
   "outputs": [
    {
     "name": "stdout",
     "output_type": "stream",
     "text": [
      "              precision    recall  f1-score   support\n",
      "\n",
      "           0       0.93      0.98      0.96       119\n",
      "           1       0.75      0.40      0.52        15\n",
      "\n",
      "    accuracy                           0.92       134\n",
      "   macro avg       0.84      0.69      0.74       134\n",
      "weighted avg       0.91      0.92      0.91       134\n",
      "\n",
      "cross validation score: 0.8813186813186814\n",
      "accuracy: 0.917910447761194\n"
     ]
    },
    {
     "data": {
      "image/png": "[encoded data removed]",
      "text/plain": [
       "<Figure size 360x360 with 1 Axes>"
      ]
     },
     "metadata": {
      "needs_background": "light"
     },
     "output_type": "display_data"
    }
   ],
   "source": [
    "tree_clas =DecisionTreeClassifier(ccp_alpha=0.01, max_depth=5, max_features='auto',\n",
    "                       random_state=0)\n",
    "tree_clas.fit(X_train, y_train)\n",
    "y_predict = tree_clas.predict(X_test)\n",
    "print(classification_report(y_test, y_predict))\n",
    "cm = confusion_matrix(y_test, y_predict)\n",
    "print('cross validation score:',cross_val_score(tree_clas, X_test, y_test, cv=10, scoring='accuracy').mean())\n",
    "print('accuracy:',tree_clas.score(X_test, y_test))\n",
    "cm = confusion_matrix(y_test, y_predict)\n",
    "fig, ax = plot_confusion_matrix(conf_mat=cm ,  figsize=(5, 5))\n",
    "plt.show()"
   ]
  },
  {
   "cell_type": "code",
   "execution_count": null,
   "id": "ceb87241",
   "metadata": {},
   "outputs": [],
   "source": [
    "#model 3\n",
    "# random forest"
   ]
  },
  {
   "cell_type": "code",
   "execution_count": 19,
   "id": "e1466157",
   "metadata": {},
   "outputs": [
    {
     "name": "stdout",
     "output_type": "stream",
     "text": [
      "Fitting 10 folds for each of 24 candidates, totalling 240 fits\n",
      "RandomForestClassifier(criterion='entropy')\n"
     ]
    }
   ],
   "source": [
    "#grid Search\n",
    "\n",
    "rfc = RandomForestClassifier()\n",
    "params = {'n_estimators': [3,10,30,100], 'criterion': ['gini', 'entropy'],'class_weight':[None, 'balanced', 'balanced_subsample']}\n",
    "mysearch = GridSearchCV(rfc, params, cv=10,verbose=True)\n",
    "mysearch.fit(X_train,y_train)\n",
    "print(mysearch.best_estimator_)"
   ]
  },
  {
   "cell_type": "code",
   "execution_count": 18,
   "id": "cef290a1",
   "metadata": {},
   "outputs": [
    {
     "data": {
      "image/png": "[encoded data removed]",
      "text/plain": [
       "<Figure size 360x360 with 1 Axes>"
      ]
     },
     "metadata": {
      "needs_background": "light"
     },
     "output_type": "display_data"
    },
    {
     "name": "stdout",
     "output_type": "stream",
     "text": [
      "              precision    recall  f1-score   support\n",
      "\n",
      "           0       0.96      0.99      0.98       119\n",
      "           1       0.91      0.67      0.77        15\n",
      "\n",
      "    accuracy                           0.96       134\n",
      "   macro avg       0.93      0.83      0.87       134\n",
      "weighted avg       0.95      0.96      0.95       134\n",
      "\n",
      "accuracy: 0.9552238805970149\n",
      "accuracy cross validation: 0.9263736263736264\n"
     ]
    }
   ],
   "source": [
    "random_forest =RandomForestClassifier(criterion='entropy')\n",
    "random_forest.fit(X_train, y_train)\n",
    "y_predict = random_forest.predict(X_test)\n",
    "from sklearn.metrics import classification_report, confusion_matrix\n",
    "cm = confusion_matrix(y_test, y_predict)\n",
    "fig, ax = plot_confusion_matrix(conf_mat=cm ,  figsize=(5, 5))\n",
    "plt.show()      \n",
    "print(classification_report(y_test, y_predict))\n",
    "print('accuracy:',random_forest.score(X_test, y_test))\n",
    "print('cross validation score:',cross_val_score(random_forest, X_test, y_test, cv=10, scoring='accuracy').mean())\n"
   ]
  },
  {
   "cell_type": "code",
   "execution_count": null,
   "id": "5ddab7ed",
   "metadata": {},
   "outputs": [],
   "source": [
    "#model 4\n",
    "#support vector machine"
   ]
  },
  {
   "cell_type": "code",
   "execution_count": 21,
   "id": "6099d0a3",
   "metadata": {},
   "outputs": [
    {
     "name": "stdout",
     "output_type": "stream",
     "text": [
      "Fitting 5 folds for each of 36 candidates, totalling 180 fits\n",
      "SVC(C=5, gamma=0.1)\n"
     ]
    }
   ],
   "source": [
    "#Grid Search\n",
    "svm_model =svm.SVC()\n",
    "parameters = {'kernel':('linear', 'rbf'),'C':(1,2,5,10,11,15), 'gamma': (1, 0.1, 0.01)}\n",
    "clf = GridSearchCV(svm_model, parameters, verbose=True,cv=5)\n",
    "clf.fit(X_train,y_train)\n",
    "print(clf.best_estimator_)"
   ]
  },
  {
   "cell_type": "code",
   "execution_count": 19,
   "id": "f9c5b709",
   "metadata": {},
   "outputs": [
    {
     "name": "stdout",
     "output_type": "stream",
     "text": [
      "              precision    recall  f1-score   support\n",
      "\n",
      "           0       0.93      0.96      0.94       119\n",
      "           1       0.55      0.40      0.46        15\n",
      "\n",
      "    accuracy                           0.90       134\n",
      "   macro avg       0.74      0.68      0.70       134\n",
      "weighted avg       0.88      0.90      0.89       134\n",
      "\n",
      "accuracy: 0.8955223880597015\n",
      "cross validation score: 0.8967032967032967\n"
     ]
    },
    {
     "data": {
      "image/png": "[encoded data removed]",
      "text/plain": [
       "<Figure size 360x360 with 1 Axes>"
      ]
     },
     "metadata": {
      "needs_background": "light"
     },
     "output_type": "display_data"
    }
   ],
   "source": [
    "svm_model =svm.SVC(C=5, gamma=0.1)\n",
    "svm_model.fit(X_train, y_train)\n",
    "y_predict = svm_model.predict(X_test)\n",
    "print(classification_report(y_test, y_predict))\n",
    "print('accuracy:',svm_model.score(X_test, y_test))\n",
    "print('cross validation score:',cross_val_score(svm_model, X_test, y_test, cv=10, scoring='accuracy').mean())\n",
    "from sklearn.metrics import classification_report, confusion_matrix\n",
    "cm = confusion_matrix(y_test, y_predict)\n",
    "fig, ax = plot_confusion_matrix(conf_mat=cm ,  figsize=(5, 5))\n",
    "plt.show() "
   ]
  },
  {
   "cell_type": "code",
   "execution_count": null,
   "id": "f5e14425",
   "metadata": {},
   "outputs": [],
   "source": [
    "#model 5\n",
    "#adaboost"
   ]
  },
  {
   "cell_type": "code",
   "execution_count": 23,
   "id": "268c28dd",
   "metadata": {},
   "outputs": [
    {
     "name": "stdout",
     "output_type": "stream",
     "text": [
      "Fitting 10 folds for each of 14 candidates, totalling 140 fits\n",
      "0.8555206149545773\n",
      "AdaBoostClassifier(n_estimators=6)\n"
     ]
    }
   ],
   "source": [
    "ada_model= AdaBoostClassifier()\n",
    "parameters = {'n_estimators': [1, 2, 3, 4, 5, 6, 7, 8, 9, 10, 11, 12, 20, 30]}\n",
    "clf = GridSearchCV(ada_model, parameters, cv=10, verbose=True)\n",
    "clf.fit(X_train, y_train)\n",
    "print(clf.best_score_)\n",
    "print(clf.best_estimator_)"
   ]
  },
  {
   "cell_type": "code",
   "execution_count": 20,
   "id": "9b3a28cb",
   "metadata": {},
   "outputs": [
    {
     "name": "stdout",
     "output_type": "stream",
     "text": [
      "              precision    recall  f1-score   support\n",
      "\n",
      "           0       0.91      0.98      0.95       119\n",
      "           1       0.67      0.27      0.38        15\n",
      "\n",
      "    accuracy                           0.90       134\n",
      "   macro avg       0.79      0.62      0.66       134\n",
      "weighted avg       0.89      0.90      0.88       134\n",
      "\n",
      "accuarcy: 0.9029850746268657\n",
      "cross validation score: 0.8521978021978022\n"
     ]
    },
    {
     "data": {
      "image/png": "[encoded data removed]",
      "text/plain": [
       "<Figure size 360x360 with 1 Axes>"
      ]
     },
     "metadata": {
      "needs_background": "light"
     },
     "output_type": "display_data"
    }
   ],
   "source": [
    "ada_model = AdaBoostClassifier(n_estimators=6)\n",
    "ada_model.fit(X_train, y_train)\n",
    "pred_ada_model= ada_model.predict(X_test)\n",
    "print(classification_report(y_test, pred_ada_model))\n",
    "print('accuarcy:',ada_model.score(X_test, y_test))\n",
    "print('cross validation score:',cross_val_score(ada_model, X_test, y_test, cv=10, scoring='accuracy').mean())\n",
    "from sklearn.metrics import classification_report, confusion_matrix\n",
    "cm = confusion_matrix(y_test, pred_ada_model)\n",
    "fig, ax = plot_confusion_matrix(conf_mat=cm ,  figsize=(5, 5))\n",
    "plt.show() "
   ]
  },
  {
   "cell_type": "code",
   "execution_count": 67,
   "id": "1f7e375e",
   "metadata": {},
   "outputs": [],
   "source": [
    "#model 5\n",
    "#logistic regression"
   ]
  },
  {
   "cell_type": "code",
   "execution_count": 25,
   "id": "930bfdb9",
   "metadata": {},
   "outputs": [
    {
     "name": "stdout",
     "output_type": "stream",
     "text": [
      "Fitting 5 folds for each of 3 candidates, totalling 15 fits\n",
      "0.847963322165403\n",
      "LogisticRegression(solver='newton-cg')\n"
     ]
    }
   ],
   "source": [
    "model = LogisticRegression()\n",
    "solvers = ['newton-cg', 'lbfgs', 'liblinear']\n",
    "penalty = ['l2']\n",
    "# define grid search\n",
    "grid = dict(solver=solvers,penalty=penalty)\n",
    "grid_search = GridSearchCV(estimator=model, param_grid=grid, n_jobs=-1, cv=5, verbose=True)\n",
    "grid_result = grid_search.fit(X_train, y_train)\n",
    "print(grid_result.best_score_)\n",
    "print(grid_result.best_estimator_)\n"
   ]
  },
  {
   "cell_type": "code",
   "execution_count": 21,
   "id": "bbb9f0d6",
   "metadata": {},
   "outputs": [
    {
     "name": "stdout",
     "output_type": "stream",
     "text": [
      "              precision    recall  f1-score   support\n",
      "\n",
      "           0       0.92      0.99      0.96       119\n",
      "           1       0.83      0.33      0.48        15\n",
      "\n",
      "    accuracy                           0.92       134\n",
      "   macro avg       0.88      0.66      0.72       134\n",
      "weighted avg       0.91      0.92      0.90       134\n",
      "\n",
      "accuracy: 0.917910447761194\n",
      "cross validation score: 0.8890109890109891\n"
     ]
    },
    {
     "data": {
      "image/png": "[encoded data removed]",
      "text/plain": [
       "<Figure size 360x360 with 1 Axes>"
      ]
     },
     "metadata": {
      "needs_background": "light"
     },
     "output_type": "display_data"
    }
   ],
   "source": [
    "log_reg =LogisticRegression(solver='newton-cg')\n",
    "log_reg.fit(X_train, y_train)\n",
    "y_predict = log_reg.predict(X_test)\n",
    "print(classification_report(y_test, y_predict))\n",
    "print('accuracy:',log_reg.score(X_test, y_test))\n",
    "print('cross validation score:',cross_val_score(log_reg, X_test, y_test, cv=10, scoring='accuracy').mean())\n",
    "from sklearn.metrics import classification_report, confusion_matrix\n",
    "cm = confusion_matrix(y_test, y_predict)\n",
    "fig, ax = plot_confusion_matrix(conf_mat=cm ,  figsize=(5, 5))\n",
    "plt.show()\n"
   ]
  },
  {
   "cell_type": "code",
   "execution_count": null,
   "id": "c9a5270e",
   "metadata": {},
   "outputs": [],
   "source": [
    "#model 6\n",
    "#naive bias"
   ]
  },
  {
   "cell_type": "code",
   "execution_count": 22,
   "id": "38c79779",
   "metadata": {},
   "outputs": [
    {
     "name": "stdout",
     "output_type": "stream",
     "text": [
      "              precision    recall  f1-score   support\n",
      "\n",
      "           0       0.94      0.97      0.96       119\n",
      "           1       0.73      0.53      0.62        15\n",
      "\n",
      "    accuracy                           0.93       134\n",
      "   macro avg       0.84      0.75      0.79       134\n",
      "weighted avg       0.92      0.93      0.92       134\n",
      "\n",
      "accuracy: 0.9253731343283582\n",
      "cross validation score: 0.887912087912088\n"
     ]
    },
    {
     "data": {
      "image/png": "[encoded data removed]",
      "text/plain": [
       "<Figure size 360x360 with 1 Axes>"
      ]
     },
     "metadata": {
      "needs_background": "light"
     },
     "output_type": "display_data"
    }
   ],
   "source": [
    "NB = GaussianNB()\n",
    "NB.fit(X_train, y_train)\n",
    "pred_NB = NB.predict(X_test)\n",
    "print(classification_report(y_test, pred_NB))\n",
    "print('accuracy:',NB.score(X_test, y_test))\n",
    "print('cross validation score:',cross_val_score(NB, X_test, y_test, cv=10, scoring='accuracy').mean())\n",
    "from sklearn.metrics import classification_report, confusion_matrix\n",
    "cm = confusion_matrix(y_test, pred_NB)\n",
    "fig, ax = plot_confusion_matrix(conf_mat=cm ,  figsize=(5, 5))\n",
    "plt.show()"
   ]
  },
  {
   "cell_type": "code",
   "execution_count": 29,
   "id": "0ed511d9",
   "metadata": {},
   "outputs": [
    {
     "name": "stdout",
     "output_type": "stream",
     "text": [
      "Fitting 5 folds for each of 36 candidates, totalling 180 fits\n",
      "0.9117439605007934\n",
      "GradientBoostingClassifier(max_depth=4, n_estimators=300)\n"
     ]
    }
   ],
   "source": [
    "params={'n_estimators': [100,200,300,500],'learning_rate': [0.01,0.1,1],'max_depth':[3,4,5]}\n",
    "gbm=GradientBoostingClassifier()\n",
    "grid_search = GridSearchCV(estimator=gbm, param_grid=params, n_jobs=-1, cv=5, verbose=True)\n",
    "grid_result = grid_search.fit(X_train, y_train)\n",
    "print(grid_result.best_score_)\n",
    "print(grid_result.best_estimator_)\n"
   ]
  },
  {
   "cell_type": "code",
   "execution_count": 23,
   "id": "b9fd97e7",
   "metadata": {},
   "outputs": [
    {
     "name": "stdout",
     "output_type": "stream",
     "text": [
      "              precision    recall  f1-score   support\n",
      "\n",
      "           0       0.98      0.98      0.98       119\n",
      "           1       0.87      0.87      0.87        15\n",
      "\n",
      "    accuracy                           0.97       134\n",
      "   macro avg       0.92      0.92      0.92       134\n",
      "weighted avg       0.97      0.97      0.97       134\n",
      "\n",
      "accuracy: 0.9701492537313433\n",
      "cross validation score: 0.9263736263736264\n"
     ]
    },
    {
     "data": {
      "image/png": "[encoded data removed]",
      "text/plain": [
       "<Figure size 360x360 with 1 Axes>"
      ]
     },
     "metadata": {
      "needs_background": "light"
     },
     "output_type": "display_data"
    }
   ],
   "source": [
    "gboost = GradientBoostingClassifier(max_depth=4, n_estimators=300)\n",
    "gboost.fit(X_train, y_train)\n",
    "pred_gboost = gboost.predict(X_test)\n",
    "print(classification_report(y_test, pred_gboost))\n",
    "print('accuracy:',gboost.score(X_test, y_test))\n",
    "print('cross validation score:',cross_val_score(gboost, X_test, y_test, cv=10, scoring='accuracy').mean())\n",
    "from sklearn.metrics import classification_report, confusion_matrix\n",
    "cm = confusion_matrix(y_test, pred_gboost)\n",
    "fig, ax = plot_confusion_matrix(conf_mat=cm ,  figsize=(5, 5))\n",
    "plt.show()"
   ]
  },
  {
   "cell_type": "code",
   "execution_count": 13,
   "id": "b62aa531",
   "metadata": {},
   "outputs": [],
   "source": [
    "#model 1 ==> KNN , accuracy=0.8805970149253731\n",
    "#model2 ==> Decision Tree , accuracy=0.917910447761194\n",
    "#model 3 ==> Random Forest ,accuracy=0.9552238805970149\n",
    "#model 4 ==> SVM , accuracy=0.8955223880597015\n",
    "#model 5 ==> adaboost , accuracy=0.9029850746268657\n",
    "#model 6 ==> Logistic regression , accuracy=0.917910447761194\n",
    "#model 7 ==>Naive Biase , accuracy=0.9253731343283582\n",
    "#model 8==>Gradient boost,accuracy=0.9701492537313433\n",
    "\n",
    "#best model is  Gradient boost with accuracy=0.9701492537313433"
   ]
  },
  {
   "cell_type": "code",
   "execution_count": null,
   "id": "694e11c4",
   "metadata": {},
   "outputs": [],
   "source": []
  }
 ],
 "metadata": {
  "kernelspec": {
   "display_name": "Python 3",
   "language": "python",
   "name": "python3"
  },
  "language_info": {
   "codemirror_mode": {
    "name": "ipython",
    "version": 3
   },
   "file_extension": ".py",
   "mimetype": "text/x-python",
   "name": "python",
   "nbconvert_exporter": "python",
   "pygments_lexer": "ipython3",
   "version": "3.8.8"
  }
 },
 "nbformat": 4,
 "nbformat_minor": 5
}
